{
 "cells": [
  {
   "cell_type": "markdown",
   "id": "tired-demonstration",
   "metadata": {
    "papermill": {
     "duration": 0.025364,
     "end_time": "2023-12-20T08:47:44.238504",
     "exception": false,
     "start_time": "2023-12-20T08:47:44.213140",
     "status": "completed"
    },
    "tags": []
   },
   "source": [
    "# A Study on Arrhythmia via ECG Signal Classification Using the Convolutional Neural Network\n",
    "\n",
    "Yomna Hesham Amin Fekry  *(G19093453)*\n",
    "\n",
    "Ahmed Mohamed Farouk  *(2000630)*"
   ]
  },
  {
   "cell_type": "markdown",
   "id": "fancy-modern",
   "metadata": {
    "papermill": {
     "duration": 0.024659,
     "end_time": "2023-12-20T08:47:44.288116",
     "exception": false,
     "start_time": "2023-12-20T08:47:44.263457",
     "status": "completed"
    },
    "tags": []
   },
   "source": [
    "This is an implementation to the paper **\"A Study on Arrhythmia via ECG Signal Classification Using the Convolutional Neural Network\"**. \n",
    "\n",
    "The author of the paper said that the proposed algorithm is implemented in Matlab, but we cannot find this implementation, so we implemented it in Python\n"
   ]
  },
  {
   "cell_type": "markdown",
   "id": "neutral-understanding",
   "metadata": {
    "papermill": {
     "duration": 0.031356,
     "end_time": "2023-12-20T08:47:44.345564",
     "exception": false,
     "start_time": "2023-12-20T08:47:44.314208",
     "status": "completed"
    },
    "tags": []
   },
   "source": [
    "Chuyenmt\n"
   ]
  },
  {
   "cell_type": "markdown",
   "id": "chief-opera",
   "metadata": {
    "papermill": {
     "duration": 0.029352,
     "end_time": "2023-12-20T08:47:44.407802",
     "exception": false,
     "start_time": "2023-12-20T08:47:44.378450",
     "status": "completed"
    },
    "tags": []
   },
   "source": [
    "# Imports\n"
   ]
  },
  {
   "cell_type": "code",
   "execution_count": 1,
   "id": "offshore-dinner",
   "metadata": {
    "execution": {
     "iopub.execute_input": "2023-12-20T08:47:44.471750Z",
     "iopub.status.busy": "2023-12-20T08:47:44.471102Z",
     "iopub.status.idle": "2023-12-20T08:47:51.922252Z",
     "shell.execute_reply": "2023-12-20T08:47:51.921608Z",
     "shell.execute_reply.started": "2023-12-20T07:57:20.194831Z"
    },
    "papermill": {
     "duration": 7.48724,
     "end_time": "2023-12-20T08:47:51.922414",
     "exception": false,
     "start_time": "2023-12-20T08:47:44.435174",
     "status": "completed"
    },
    "tags": []
   },
   "outputs": [],
   "source": [
    "import numpy as np \n",
    "import pandas as pd \n",
    "import os\n",
    "\n",
    "import matplotlib.pyplot as plt\n",
    "import csv\n",
    "\n",
    "import pywt\n",
    "from scipy import stats\n",
    "\n",
    "from sklearn.utils import resample\n",
    "from sklearn.model_selection import train_test_split\n",
    "\n",
    "import keras\n",
    "from keras.models import Sequential\n",
    "from keras.layers import Conv1D, AvgPool1D, Flatten, Dense, Dropout, Softmax\n",
    "from keras.optimizers import Adam \n",
    "from keras.utils import to_categorical\n",
    "from keras.utils import plot_model\n",
    "from keras import regularizers\n",
    "\n",
    "\n",
    "%matplotlib inline"
   ]
  },
  {
   "cell_type": "markdown",
   "id": "collect-flashing",
   "metadata": {
    "papermill": {
     "duration": 0.025155,
     "end_time": "2023-12-20T08:47:51.973455",
     "exception": false,
     "start_time": "2023-12-20T08:47:51.948300",
     "status": "completed"
    },
    "tags": []
   },
   "source": [
    "# matplotlib Settings"
   ]
  },
  {
   "cell_type": "code",
   "execution_count": 2,
   "id": "moving-headset",
   "metadata": {
    "execution": {
     "iopub.execute_input": "2023-12-20T08:47:52.031954Z",
     "iopub.status.busy": "2023-12-20T08:47:52.031291Z",
     "iopub.status.idle": "2023-12-20T08:47:52.034285Z",
     "shell.execute_reply": "2023-12-20T08:47:52.033749Z",
     "shell.execute_reply.started": "2023-12-20T07:57:20.211855Z"
    },
    "papermill": {
     "duration": 0.035583,
     "end_time": "2023-12-20T08:47:52.034419",
     "exception": false,
     "start_time": "2023-12-20T08:47:51.998836",
     "status": "completed"
    },
    "tags": []
   },
   "outputs": [],
   "source": [
    "plt.rcParams[\"figure.figsize\"] = (30,6)\n",
    "plt.rcParams['lines.linewidth'] = 1\n",
    "plt.rcParams['lines.color'] = 'b'\n",
    "plt.rcParams['axes.grid'] = True "
   ]
  },
  {
   "cell_type": "markdown",
   "id": "empty-frost",
   "metadata": {
    "papermill": {
     "duration": 0.026133,
     "end_time": "2023-12-20T08:47:52.086276",
     "exception": false,
     "start_time": "2023-12-20T08:47:52.060143",
     "status": "completed"
    },
    "tags": []
   },
   "source": [
    "# Methods Definitions"
   ]
  },
  {
   "cell_type": "code",
   "execution_count": 25,
   "id": "conservative-steering",
   "metadata": {
    "execution": {
     "iopub.execute_input": "2023-12-20T08:47:52.144452Z",
     "iopub.status.busy": "2023-12-20T08:47:52.143740Z",
     "iopub.status.idle": "2023-12-20T08:47:52.146480Z",
     "shell.execute_reply": "2023-12-20T08:47:52.145943Z",
     "shell.execute_reply.started": "2023-12-20T07:57:20.228600Z"
    },
    "papermill": {
     "duration": 0.034878,
     "end_time": "2023-12-20T08:47:52.146663",
     "exception": false,
     "start_time": "2023-12-20T08:47:52.111785",
     "status": "completed"
    },
    "tags": []
   },
   "outputs": [],
   "source": [
    "def denoise(data):\n",
    "    #Tamaño completo de la data osea el numero de puntos que tiene la grabacion a una frecuencia de 360Hz por segundo ejemplo sujeto 101 tiene 650000 puntos\n",
    "    print(len(data))\n",
    "    #creamos el objeto wavelet para poder aplicar la trasnformada wavelet\n",
    "    w = pywt.Wavelet('sym4') \n",
    "    print(w)\n",
    "    #Sacamos el nivel maximo de descomposicion que se puede hacer con la data que tenemos dec_len es el tamaño del filtro de descomposicion (2N) donde N es el orden del filtro Sym4 es orden 4\n",
    "    maxlev = pywt.dwt_max_level(len(data), w.dec_len)\n",
    "    print(\"maximum level is \" + str(maxlev))\n",
    "    threshold = 0.05 \n",
    "    #desccomponemos los datos en los coeficientes de la wavelet en el caso del paciente 101 tenemos 16 niveles de descomposicion \n",
    "    coeffs = pywt.wavedec(data, 'sym4', level=maxlev) \n",
    "    print(\"Tamaño de Coeficiente aproximados\",len(coeffs[0]))\n",
    "    print(\"Tamaño de Coeficiente descompocicion 1\",len(coeffs[1]))\n",
    "\n",
    "    for i in range(1, len(coeffs)):\n",
    "        #Aplicamos el umbral a los coeficientes de la wavelet donde el umbral es el 5% del valor maximo de los coeficientes en el sujeto 101 el valor maximo fue de  1000 con esto \n",
    "        #se le resta a cada dato del coeficiente \n",
    "        coeffs[i] = pywt.threshold(coeffs[i], threshold*max(coeffs[i])) \n",
    "        print(\"Coeficiente despues de umbral\",coeffs[i])\n",
    "        break\n",
    "    #se reconstrue la data con los coeficientes modificados     \n",
    "    datarec = pywt.waverec(coeffs, 'sym4')\n",
    "    print(\"Datarec\",datarec[1])\n",
    "    return datarec\n"
   ]
  },
  {
   "cell_type": "markdown",
   "id": "verified-banking",
   "metadata": {
    "papermill": {
     "duration": 0.025173,
     "end_time": "2023-12-20T08:47:52.196837",
     "exception": false,
     "start_time": "2023-12-20T08:47:52.171664",
     "status": "completed"
    },
    "tags": []
   },
   "source": [
    "# Variables Definitions"
   ]
  },
  {
   "cell_type": "code",
   "execution_count": 4,
   "id": "normal-moisture",
   "metadata": {
    "execution": {
     "iopub.execute_input": "2023-12-20T08:47:52.254223Z",
     "iopub.status.busy": "2023-12-20T08:47:52.253599Z",
     "iopub.status.idle": "2023-12-20T08:47:52.256216Z",
     "shell.execute_reply": "2023-12-20T08:47:52.256761Z",
     "shell.execute_reply.started": "2023-12-20T07:57:20.241433Z"
    },
    "papermill": {
     "duration": 0.034527,
     "end_time": "2023-12-20T08:47:52.256946",
     "exception": false,
     "start_time": "2023-12-20T08:47:52.222419",
     "status": "completed"
    },
    "tags": []
   },
   "outputs": [],
   "source": [
    "path = 'C:\\\\Users\\\\Sistemas\\\\Desktop\\\\Arrhythmia_model\\\\mitbih_database\\\\'\n",
    "window_size = 180\n",
    "maximum_counting = 10000\n",
    "\n",
    "classes = ['N', 'L', 'R', 'A', 'V']\n",
    "n_classes = len(classes)\n",
    "count_classes = [0]*n_classes\n",
    "\n",
    "X = list()\n",
    "y = list()"
   ]
  },
  {
   "cell_type": "code",
   "execution_count": 5,
   "id": "ancient-massachusetts",
   "metadata": {
    "execution": {
     "iopub.execute_input": "2023-12-20T08:47:52.314214Z",
     "iopub.status.busy": "2023-12-20T08:47:52.313433Z",
     "iopub.status.idle": "2023-12-20T08:47:52.317914Z",
     "shell.execute_reply": "2023-12-20T08:47:52.318408Z",
     "shell.execute_reply.started": "2023-12-20T08:32:50.273523Z"
    },
    "papermill": {
     "duration": 0.03657,
     "end_time": "2023-12-20T08:47:52.318657",
     "exception": false,
     "start_time": "2023-12-20T08:47:52.282087",
     "status": "completed"
    },
    "tags": []
   },
   "outputs": [
    {
     "data": {
      "text/plain": [
       "[0, 0, 0, 0, 0]"
      ]
     },
     "execution_count": 5,
     "metadata": {},
     "output_type": "execute_result"
    }
   ],
   "source": [
    "count_classes"
   ]
  },
  {
   "cell_type": "markdown",
   "id": "satisfactory-entry",
   "metadata": {
    "papermill": {
     "duration": 0.025691,
     "end_time": "2023-12-20T08:47:52.370325",
     "exception": false,
     "start_time": "2023-12-20T08:47:52.344634",
     "status": "completed"
    },
    "tags": []
   },
   "source": [
    "# Prepere Input Files"
   ]
  },
  {
   "cell_type": "code",
   "execution_count": 6,
   "id": "sound-documentary",
   "metadata": {
    "execution": {
     "iopub.execute_input": "2023-12-20T08:47:52.427653Z",
     "iopub.status.busy": "2023-12-20T08:47:52.426955Z",
     "iopub.status.idle": "2023-12-20T08:47:52.592898Z",
     "shell.execute_reply": "2023-12-20T08:47:52.593381Z",
     "shell.execute_reply.started": "2023-12-20T07:57:20.304316Z"
    },
    "papermill": {
     "duration": 0.197052,
     "end_time": "2023-12-20T08:47:52.593601",
     "exception": false,
     "start_time": "2023-12-20T08:47:52.396549",
     "status": "completed"
    },
    "tags": []
   },
   "outputs": [],
   "source": [
    "# Read files\n",
    "filenames = next(os.walk(path))[2]#Sử dụng os.walk() để lấy danh sách tất cả các tệp trong thư mục được chỉ định bởi biến path. [2] chỉ trả về danh sách tên các tệp trong thư mục đó.\n",
    "\n",
    "# Split and save .csv , .txt \n",
    "records = list()\n",
    "annotations = list()\n",
    "filenames.sort()"
   ]
  },
  {
   "cell_type": "code",
   "execution_count": 7,
   "id": "seven-target",
   "metadata": {
    "execution": {
     "iopub.execute_input": "2023-12-20T08:47:52.649719Z",
     "iopub.status.busy": "2023-12-20T08:47:52.649033Z",
     "iopub.status.idle": "2023-12-20T08:47:52.655266Z",
     "shell.execute_reply": "2023-12-20T08:47:52.655716Z",
     "shell.execute_reply.started": "2023-12-20T08:38:07.235708Z"
    },
    "papermill": {
     "duration": 0.036832,
     "end_time": "2023-12-20T08:47:52.655886",
     "exception": false,
     "start_time": "2023-12-20T08:47:52.619054",
     "status": "completed"
    },
    "tags": []
   },
   "outputs": [
    {
     "data": {
      "text/plain": [
       "['100.csv',\n",
       " '100annotations.txt',\n",
       " '101.csv',\n",
       " '101annotations.txt',\n",
       " '102.csv',\n",
       " '102annotations.txt',\n",
       " '103.csv',\n",
       " '103annotations.txt',\n",
       " '104.csv',\n",
       " '104annotations.txt',\n",
       " '105.csv',\n",
       " '105annotations.txt',\n",
       " '106.csv',\n",
       " '106annotations.txt',\n",
       " '107.csv',\n",
       " '107annotations.txt',\n",
       " '108.csv',\n",
       " '108annotations.txt',\n",
       " '109.csv',\n",
       " '109annotations.txt',\n",
       " '111.csv',\n",
       " '111annotations.txt',\n",
       " '112.csv',\n",
       " '112annotations.txt',\n",
       " '113.csv',\n",
       " '113annotations.txt',\n",
       " '114.csv',\n",
       " '114annotations.txt',\n",
       " '115.csv',\n",
       " '115annotations.txt',\n",
       " '116.csv',\n",
       " '116annotations.txt',\n",
       " '117.csv',\n",
       " '117annotations.txt',\n",
       " '118.csv',\n",
       " '118annotations.txt',\n",
       " '119.csv',\n",
       " '119annotations.txt',\n",
       " '121.csv',\n",
       " '121annotations.txt',\n",
       " '122.csv',\n",
       " '122annotations.txt',\n",
       " '123.csv',\n",
       " '123annotations.txt',\n",
       " '124.csv',\n",
       " '124annotations.txt',\n",
       " '200.csv',\n",
       " '200annotations.txt',\n",
       " '201.csv',\n",
       " '201annotations.txt',\n",
       " '202.csv',\n",
       " '202annotations.txt',\n",
       " '203.csv',\n",
       " '203annotations.txt',\n",
       " '205.csv',\n",
       " '205annotations.txt',\n",
       " '207.csv',\n",
       " '207annotations.txt',\n",
       " '208.csv',\n",
       " '208annotations.txt',\n",
       " '209.csv',\n",
       " '209annotations.txt',\n",
       " '210.csv',\n",
       " '210annotations.txt',\n",
       " '212.csv',\n",
       " '212annotations.txt',\n",
       " '213.csv',\n",
       " '213annotations.txt',\n",
       " '214.csv',\n",
       " '214annotations.txt',\n",
       " '215.csv',\n",
       " '215annotations.txt',\n",
       " '217.csv',\n",
       " '217annotations.txt',\n",
       " '219.csv',\n",
       " '219annotations.txt',\n",
       " '220.csv',\n",
       " '220annotations.txt',\n",
       " '221.csv',\n",
       " '221annotations.txt',\n",
       " '222.csv',\n",
       " '222annotations.txt',\n",
       " '223.csv',\n",
       " '223annotations.txt',\n",
       " '228.csv',\n",
       " '228annotations.txt',\n",
       " '230.csv',\n",
       " '230annotations.txt',\n",
       " '231.csv',\n",
       " '231annotations.txt',\n",
       " '232.csv',\n",
       " '232annotations.txt',\n",
       " '233.csv',\n",
       " '233annotations.txt',\n",
       " '234.csv',\n",
       " '234annotations.txt']"
      ]
     },
     "execution_count": 7,
     "metadata": {},
     "output_type": "execute_result"
    }
   ],
   "source": [
    "filenames"
   ]
  },
  {
   "cell_type": "code",
   "execution_count": 8,
   "id": "processed-mouth",
   "metadata": {
    "execution": {
     "iopub.execute_input": "2023-12-20T08:47:52.710987Z",
     "iopub.status.busy": "2023-12-20T08:47:52.710371Z",
     "iopub.status.idle": "2023-12-20T08:47:52.716190Z",
     "shell.execute_reply": "2023-12-20T08:47:52.715687Z",
     "shell.execute_reply.started": "2023-12-20T07:57:20.319697Z"
    },
    "papermill": {
     "duration": 0.034885,
     "end_time": "2023-12-20T08:47:52.716328",
     "exception": false,
     "start_time": "2023-12-20T08:47:52.681443",
     "status": "completed"
    },
    "tags": []
   },
   "outputs": [],
   "source": [
    "# segrefating filenames and annotations\n",
    "for f in filenames:\n",
    "    filename, file_extension = os.path.splitext(f) #trích xuất phần mở rộng của tên tệp\n",
    "    \n",
    "    # *.csv\n",
    "    if(file_extension == '.csv'):\n",
    "        records.append(path + filename + file_extension)\n",
    "\n",
    "    # *.txt\n",
    "    else:\n",
    "        annotations.append(path + filename + file_extension)"
   ]
  },
  {
   "cell_type": "code",
   "execution_count": 9,
   "id": "honest-failure",
   "metadata": {
    "execution": {
     "iopub.execute_input": "2023-12-20T08:47:52.774542Z",
     "iopub.status.busy": "2023-12-20T08:47:52.773835Z",
     "iopub.status.idle": "2023-12-20T08:47:52.778889Z",
     "shell.execute_reply": "2023-12-20T08:47:52.778320Z",
     "shell.execute_reply.started": "2023-12-20T08:39:15.336878Z"
    },
    "papermill": {
     "duration": 0.036686,
     "end_time": "2023-12-20T08:47:52.779092",
     "exception": false,
     "start_time": "2023-12-20T08:47:52.742406",
     "status": "completed"
    },
    "tags": []
   },
   "outputs": [
    {
     "data": {
      "text/plain": [
       "['C:\\\\Users\\\\Sistemas\\\\Desktop\\\\Arrhythmia_model\\\\mitbih_database\\\\100annotations.txt',\n",
       " 'C:\\\\Users\\\\Sistemas\\\\Desktop\\\\Arrhythmia_model\\\\mitbih_database\\\\101annotations.txt',\n",
       " 'C:\\\\Users\\\\Sistemas\\\\Desktop\\\\Arrhythmia_model\\\\mitbih_database\\\\102annotations.txt',\n",
       " 'C:\\\\Users\\\\Sistemas\\\\Desktop\\\\Arrhythmia_model\\\\mitbih_database\\\\103annotations.txt',\n",
       " 'C:\\\\Users\\\\Sistemas\\\\Desktop\\\\Arrhythmia_model\\\\mitbih_database\\\\104annotations.txt',\n",
       " 'C:\\\\Users\\\\Sistemas\\\\Desktop\\\\Arrhythmia_model\\\\mitbih_database\\\\105annotations.txt',\n",
       " 'C:\\\\Users\\\\Sistemas\\\\Desktop\\\\Arrhythmia_model\\\\mitbih_database\\\\106annotations.txt',\n",
       " 'C:\\\\Users\\\\Sistemas\\\\Desktop\\\\Arrhythmia_model\\\\mitbih_database\\\\107annotations.txt',\n",
       " 'C:\\\\Users\\\\Sistemas\\\\Desktop\\\\Arrhythmia_model\\\\mitbih_database\\\\108annotations.txt',\n",
       " 'C:\\\\Users\\\\Sistemas\\\\Desktop\\\\Arrhythmia_model\\\\mitbih_database\\\\109annotations.txt',\n",
       " 'C:\\\\Users\\\\Sistemas\\\\Desktop\\\\Arrhythmia_model\\\\mitbih_database\\\\111annotations.txt',\n",
       " 'C:\\\\Users\\\\Sistemas\\\\Desktop\\\\Arrhythmia_model\\\\mitbih_database\\\\112annotations.txt',\n",
       " 'C:\\\\Users\\\\Sistemas\\\\Desktop\\\\Arrhythmia_model\\\\mitbih_database\\\\113annotations.txt',\n",
       " 'C:\\\\Users\\\\Sistemas\\\\Desktop\\\\Arrhythmia_model\\\\mitbih_database\\\\114annotations.txt',\n",
       " 'C:\\\\Users\\\\Sistemas\\\\Desktop\\\\Arrhythmia_model\\\\mitbih_database\\\\115annotations.txt',\n",
       " 'C:\\\\Users\\\\Sistemas\\\\Desktop\\\\Arrhythmia_model\\\\mitbih_database\\\\116annotations.txt',\n",
       " 'C:\\\\Users\\\\Sistemas\\\\Desktop\\\\Arrhythmia_model\\\\mitbih_database\\\\117annotations.txt',\n",
       " 'C:\\\\Users\\\\Sistemas\\\\Desktop\\\\Arrhythmia_model\\\\mitbih_database\\\\118annotations.txt',\n",
       " 'C:\\\\Users\\\\Sistemas\\\\Desktop\\\\Arrhythmia_model\\\\mitbih_database\\\\119annotations.txt',\n",
       " 'C:\\\\Users\\\\Sistemas\\\\Desktop\\\\Arrhythmia_model\\\\mitbih_database\\\\121annotations.txt',\n",
       " 'C:\\\\Users\\\\Sistemas\\\\Desktop\\\\Arrhythmia_model\\\\mitbih_database\\\\122annotations.txt',\n",
       " 'C:\\\\Users\\\\Sistemas\\\\Desktop\\\\Arrhythmia_model\\\\mitbih_database\\\\123annotations.txt',\n",
       " 'C:\\\\Users\\\\Sistemas\\\\Desktop\\\\Arrhythmia_model\\\\mitbih_database\\\\124annotations.txt',\n",
       " 'C:\\\\Users\\\\Sistemas\\\\Desktop\\\\Arrhythmia_model\\\\mitbih_database\\\\200annotations.txt',\n",
       " 'C:\\\\Users\\\\Sistemas\\\\Desktop\\\\Arrhythmia_model\\\\mitbih_database\\\\201annotations.txt',\n",
       " 'C:\\\\Users\\\\Sistemas\\\\Desktop\\\\Arrhythmia_model\\\\mitbih_database\\\\202annotations.txt',\n",
       " 'C:\\\\Users\\\\Sistemas\\\\Desktop\\\\Arrhythmia_model\\\\mitbih_database\\\\203annotations.txt',\n",
       " 'C:\\\\Users\\\\Sistemas\\\\Desktop\\\\Arrhythmia_model\\\\mitbih_database\\\\205annotations.txt',\n",
       " 'C:\\\\Users\\\\Sistemas\\\\Desktop\\\\Arrhythmia_model\\\\mitbih_database\\\\207annotations.txt',\n",
       " 'C:\\\\Users\\\\Sistemas\\\\Desktop\\\\Arrhythmia_model\\\\mitbih_database\\\\208annotations.txt',\n",
       " 'C:\\\\Users\\\\Sistemas\\\\Desktop\\\\Arrhythmia_model\\\\mitbih_database\\\\209annotations.txt',\n",
       " 'C:\\\\Users\\\\Sistemas\\\\Desktop\\\\Arrhythmia_model\\\\mitbih_database\\\\210annotations.txt',\n",
       " 'C:\\\\Users\\\\Sistemas\\\\Desktop\\\\Arrhythmia_model\\\\mitbih_database\\\\212annotations.txt',\n",
       " 'C:\\\\Users\\\\Sistemas\\\\Desktop\\\\Arrhythmia_model\\\\mitbih_database\\\\213annotations.txt',\n",
       " 'C:\\\\Users\\\\Sistemas\\\\Desktop\\\\Arrhythmia_model\\\\mitbih_database\\\\214annotations.txt',\n",
       " 'C:\\\\Users\\\\Sistemas\\\\Desktop\\\\Arrhythmia_model\\\\mitbih_database\\\\215annotations.txt',\n",
       " 'C:\\\\Users\\\\Sistemas\\\\Desktop\\\\Arrhythmia_model\\\\mitbih_database\\\\217annotations.txt',\n",
       " 'C:\\\\Users\\\\Sistemas\\\\Desktop\\\\Arrhythmia_model\\\\mitbih_database\\\\219annotations.txt',\n",
       " 'C:\\\\Users\\\\Sistemas\\\\Desktop\\\\Arrhythmia_model\\\\mitbih_database\\\\220annotations.txt',\n",
       " 'C:\\\\Users\\\\Sistemas\\\\Desktop\\\\Arrhythmia_model\\\\mitbih_database\\\\221annotations.txt',\n",
       " 'C:\\\\Users\\\\Sistemas\\\\Desktop\\\\Arrhythmia_model\\\\mitbih_database\\\\222annotations.txt',\n",
       " 'C:\\\\Users\\\\Sistemas\\\\Desktop\\\\Arrhythmia_model\\\\mitbih_database\\\\223annotations.txt',\n",
       " 'C:\\\\Users\\\\Sistemas\\\\Desktop\\\\Arrhythmia_model\\\\mitbih_database\\\\228annotations.txt',\n",
       " 'C:\\\\Users\\\\Sistemas\\\\Desktop\\\\Arrhythmia_model\\\\mitbih_database\\\\230annotations.txt',\n",
       " 'C:\\\\Users\\\\Sistemas\\\\Desktop\\\\Arrhythmia_model\\\\mitbih_database\\\\231annotations.txt',\n",
       " 'C:\\\\Users\\\\Sistemas\\\\Desktop\\\\Arrhythmia_model\\\\mitbih_database\\\\232annotations.txt',\n",
       " 'C:\\\\Users\\\\Sistemas\\\\Desktop\\\\Arrhythmia_model\\\\mitbih_database\\\\233annotations.txt',\n",
       " 'C:\\\\Users\\\\Sistemas\\\\Desktop\\\\Arrhythmia_model\\\\mitbih_database\\\\234annotations.txt']"
      ]
     },
     "execution_count": 9,
     "metadata": {},
     "output_type": "execute_result"
    }
   ],
   "source": [
    "annotations"
   ]
  },
  {
   "cell_type": "code",
   "execution_count": 10,
   "id": "protective-birthday",
   "metadata": {
    "execution": {
     "iopub.execute_input": "2023-12-20T08:47:52.837622Z",
     "iopub.status.busy": "2023-12-20T08:47:52.836755Z",
     "iopub.status.idle": "2023-12-20T08:47:52.840695Z",
     "shell.execute_reply": "2023-12-20T08:47:52.840134Z",
     "shell.execute_reply.started": "2023-12-20T08:39:28.259810Z"
    },
    "papermill": {
     "duration": 0.035465,
     "end_time": "2023-12-20T08:47:52.840818",
     "exception": false,
     "start_time": "2023-12-20T08:47:52.805353",
     "status": "completed"
    },
    "tags": []
   },
   "outputs": [
    {
     "data": {
      "text/plain": [
       "['C:\\\\Users\\\\Sistemas\\\\Desktop\\\\Arrhythmia_model\\\\mitbih_database\\\\100.csv',\n",
       " 'C:\\\\Users\\\\Sistemas\\\\Desktop\\\\Arrhythmia_model\\\\mitbih_database\\\\101.csv',\n",
       " 'C:\\\\Users\\\\Sistemas\\\\Desktop\\\\Arrhythmia_model\\\\mitbih_database\\\\102.csv',\n",
       " 'C:\\\\Users\\\\Sistemas\\\\Desktop\\\\Arrhythmia_model\\\\mitbih_database\\\\103.csv',\n",
       " 'C:\\\\Users\\\\Sistemas\\\\Desktop\\\\Arrhythmia_model\\\\mitbih_database\\\\104.csv',\n",
       " 'C:\\\\Users\\\\Sistemas\\\\Desktop\\\\Arrhythmia_model\\\\mitbih_database\\\\105.csv',\n",
       " 'C:\\\\Users\\\\Sistemas\\\\Desktop\\\\Arrhythmia_model\\\\mitbih_database\\\\106.csv',\n",
       " 'C:\\\\Users\\\\Sistemas\\\\Desktop\\\\Arrhythmia_model\\\\mitbih_database\\\\107.csv',\n",
       " 'C:\\\\Users\\\\Sistemas\\\\Desktop\\\\Arrhythmia_model\\\\mitbih_database\\\\108.csv',\n",
       " 'C:\\\\Users\\\\Sistemas\\\\Desktop\\\\Arrhythmia_model\\\\mitbih_database\\\\109.csv',\n",
       " 'C:\\\\Users\\\\Sistemas\\\\Desktop\\\\Arrhythmia_model\\\\mitbih_database\\\\111.csv',\n",
       " 'C:\\\\Users\\\\Sistemas\\\\Desktop\\\\Arrhythmia_model\\\\mitbih_database\\\\112.csv',\n",
       " 'C:\\\\Users\\\\Sistemas\\\\Desktop\\\\Arrhythmia_model\\\\mitbih_database\\\\113.csv',\n",
       " 'C:\\\\Users\\\\Sistemas\\\\Desktop\\\\Arrhythmia_model\\\\mitbih_database\\\\114.csv',\n",
       " 'C:\\\\Users\\\\Sistemas\\\\Desktop\\\\Arrhythmia_model\\\\mitbih_database\\\\115.csv',\n",
       " 'C:\\\\Users\\\\Sistemas\\\\Desktop\\\\Arrhythmia_model\\\\mitbih_database\\\\116.csv',\n",
       " 'C:\\\\Users\\\\Sistemas\\\\Desktop\\\\Arrhythmia_model\\\\mitbih_database\\\\117.csv',\n",
       " 'C:\\\\Users\\\\Sistemas\\\\Desktop\\\\Arrhythmia_model\\\\mitbih_database\\\\118.csv',\n",
       " 'C:\\\\Users\\\\Sistemas\\\\Desktop\\\\Arrhythmia_model\\\\mitbih_database\\\\119.csv',\n",
       " 'C:\\\\Users\\\\Sistemas\\\\Desktop\\\\Arrhythmia_model\\\\mitbih_database\\\\121.csv',\n",
       " 'C:\\\\Users\\\\Sistemas\\\\Desktop\\\\Arrhythmia_model\\\\mitbih_database\\\\122.csv',\n",
       " 'C:\\\\Users\\\\Sistemas\\\\Desktop\\\\Arrhythmia_model\\\\mitbih_database\\\\123.csv',\n",
       " 'C:\\\\Users\\\\Sistemas\\\\Desktop\\\\Arrhythmia_model\\\\mitbih_database\\\\124.csv',\n",
       " 'C:\\\\Users\\\\Sistemas\\\\Desktop\\\\Arrhythmia_model\\\\mitbih_database\\\\200.csv',\n",
       " 'C:\\\\Users\\\\Sistemas\\\\Desktop\\\\Arrhythmia_model\\\\mitbih_database\\\\201.csv',\n",
       " 'C:\\\\Users\\\\Sistemas\\\\Desktop\\\\Arrhythmia_model\\\\mitbih_database\\\\202.csv',\n",
       " 'C:\\\\Users\\\\Sistemas\\\\Desktop\\\\Arrhythmia_model\\\\mitbih_database\\\\203.csv',\n",
       " 'C:\\\\Users\\\\Sistemas\\\\Desktop\\\\Arrhythmia_model\\\\mitbih_database\\\\205.csv',\n",
       " 'C:\\\\Users\\\\Sistemas\\\\Desktop\\\\Arrhythmia_model\\\\mitbih_database\\\\207.csv',\n",
       " 'C:\\\\Users\\\\Sistemas\\\\Desktop\\\\Arrhythmia_model\\\\mitbih_database\\\\208.csv',\n",
       " 'C:\\\\Users\\\\Sistemas\\\\Desktop\\\\Arrhythmia_model\\\\mitbih_database\\\\209.csv',\n",
       " 'C:\\\\Users\\\\Sistemas\\\\Desktop\\\\Arrhythmia_model\\\\mitbih_database\\\\210.csv',\n",
       " 'C:\\\\Users\\\\Sistemas\\\\Desktop\\\\Arrhythmia_model\\\\mitbih_database\\\\212.csv',\n",
       " 'C:\\\\Users\\\\Sistemas\\\\Desktop\\\\Arrhythmia_model\\\\mitbih_database\\\\213.csv',\n",
       " 'C:\\\\Users\\\\Sistemas\\\\Desktop\\\\Arrhythmia_model\\\\mitbih_database\\\\214.csv',\n",
       " 'C:\\\\Users\\\\Sistemas\\\\Desktop\\\\Arrhythmia_model\\\\mitbih_database\\\\215.csv',\n",
       " 'C:\\\\Users\\\\Sistemas\\\\Desktop\\\\Arrhythmia_model\\\\mitbih_database\\\\217.csv',\n",
       " 'C:\\\\Users\\\\Sistemas\\\\Desktop\\\\Arrhythmia_model\\\\mitbih_database\\\\219.csv',\n",
       " 'C:\\\\Users\\\\Sistemas\\\\Desktop\\\\Arrhythmia_model\\\\mitbih_database\\\\220.csv',\n",
       " 'C:\\\\Users\\\\Sistemas\\\\Desktop\\\\Arrhythmia_model\\\\mitbih_database\\\\221.csv',\n",
       " 'C:\\\\Users\\\\Sistemas\\\\Desktop\\\\Arrhythmia_model\\\\mitbih_database\\\\222.csv',\n",
       " 'C:\\\\Users\\\\Sistemas\\\\Desktop\\\\Arrhythmia_model\\\\mitbih_database\\\\223.csv',\n",
       " 'C:\\\\Users\\\\Sistemas\\\\Desktop\\\\Arrhythmia_model\\\\mitbih_database\\\\228.csv',\n",
       " 'C:\\\\Users\\\\Sistemas\\\\Desktop\\\\Arrhythmia_model\\\\mitbih_database\\\\230.csv',\n",
       " 'C:\\\\Users\\\\Sistemas\\\\Desktop\\\\Arrhythmia_model\\\\mitbih_database\\\\231.csv',\n",
       " 'C:\\\\Users\\\\Sistemas\\\\Desktop\\\\Arrhythmia_model\\\\mitbih_database\\\\232.csv',\n",
       " 'C:\\\\Users\\\\Sistemas\\\\Desktop\\\\Arrhythmia_model\\\\mitbih_database\\\\233.csv',\n",
       " 'C:\\\\Users\\\\Sistemas\\\\Desktop\\\\Arrhythmia_model\\\\mitbih_database\\\\234.csv']"
      ]
     },
     "execution_count": 10,
     "metadata": {},
     "output_type": "execute_result"
    }
   ],
   "source": [
    "records"
   ]
  },
  {
   "cell_type": "markdown",
   "id": "developmental-vienna",
   "metadata": {
    "papermill": {
     "duration": 0.026787,
     "end_time": "2023-12-20T08:47:52.894118",
     "exception": false,
     "start_time": "2023-12-20T08:47:52.867331",
     "status": "completed"
    },
    "tags": []
   },
   "source": [
    "# Data Extraction and Preprocessing"
   ]
  },
  {
   "cell_type": "code",
   "execution_count": 26,
   "id": "still-chocolate",
   "metadata": {
    "execution": {
     "iopub.execute_input": "2023-12-20T08:47:52.959205Z",
     "iopub.status.busy": "2023-12-20T08:47:52.958317Z",
     "iopub.status.idle": "2023-12-20T08:48:26.843478Z",
     "shell.execute_reply": "2023-12-20T08:48:26.843904Z",
     "shell.execute_reply.started": "2023-12-20T07:57:20.329814Z"
    },
    "papermill": {
     "duration": 33.923045,
     "end_time": "2023-12-20T08:48:26.844050",
     "exception": false,
     "start_time": "2023-12-20T08:47:52.921005",
     "status": "completed"
    },
    "tags": []
   },
   "outputs": [
    {
     "name": "stdout",
     "output_type": "stream",
     "text": [
      "650000\n",
      "Wavelet sym4\n",
      "  Family name:    Symlets\n",
      "  Short name:     sym\n",
      "  Filters length: 8\n",
      "  Orthogonal:     True\n",
      "  Biorthogonal:   True\n",
      "  Symmetry:       near symmetric\n",
      "  DWT:            True\n",
      "  CWT:            False\n",
      "maximum level is 16\n",
      "Tamaño de Coeficiente aproximados 16\n",
      "Tamaño de Coeficiente descompocicion 1 16\n",
      "Coeficiente despues de umbral [  415.29319181   962.35454079 -2059.11715609   823.65608108\n",
      "  -607.93292368     0.            -0.          -361.78324227\n",
      "  -431.52976509   -72.7818017    957.25340924   837.87668139\n",
      " -3996.44142167  -120.79719634  -847.44319285   867.91540063]\n",
      "Datarec 994.8845987096629\n",
      "(0,) (0,)\n"
     ]
    }
   ],
   "source": [
    "# Records\n",
    "for r in range(0,len(records)):\n",
    "    signals = []\n",
    "\n",
    "    with open(records[r], 'rt') as csvfile:\n",
    "        spamreader = csv.reader(csvfile, delimiter=',', quotechar='|') # read CSV file\\\n",
    "        \n",
    "        row_index = -1\n",
    "        for row in spamreader:\n",
    "            if(row_index >= 0):\n",
    "                signals.insert(row_index, int(row[1]))\n",
    "            row_index += 1\n",
    "            \n",
    "    # Plot an example to the signals\n",
    "    if r == 1:\n",
    "        # Plot each patient's signal\n",
    "        plt.title(records[1] + \" Wave\")\n",
    "        plt.plot(signals[0:700])\n",
    "        plt.show()\n",
    "        \n",
    "    signals = denoise(signals)\n",
    "    break\n",
    "    # Plot an example to the signals\n",
    "    if r == 1:\n",
    "        # Plot each patient's signal\n",
    "        plt.title(records[1] + \" wave after denoised\")\n",
    "        plt.plot(signals[0:700])\n",
    "        plt.show()\n",
    "        \n",
    "    signals = stats.zscore(signals)\n",
    "    # Plot an example to the signals\n",
    "    if r == 1:\n",
    "        # Plot each patient's signal\n",
    "        plt.title(records[1] + \" wave after z-score normalization \")\n",
    "        plt.plot(signals[0:700])\n",
    "        plt.show()\n",
    "    \n",
    "    # Read anotations: R position and Arrhythmia class\n",
    "    example_beat_printed = False\n",
    "    with open(annotations[r], 'r') as fileID:\n",
    "        data = fileID.readlines() \n",
    "        beat = list()\n",
    "\n",
    "        for d in range(1, len(data)): # 0 index is Chart Head\n",
    "            splitted = data[d].split(' ')\n",
    "            splitted = filter(None, splitted)\n",
    "            next(splitted) # Time... Clipping\n",
    "            pos = int(next(splitted)) # Sample ID\n",
    "            arrhythmia_type = next(splitted) # Type\n",
    "            if(arrhythmia_type in classes):\n",
    "                arrhythmia_index = classes.index(arrhythmia_type)\n",
    "#                 if count_classes[arrhythmia_index] > maximum_counting: # avoid overfitting\n",
    "#                     pass\n",
    "#                 else:\n",
    "                count_classes[arrhythmia_index] += 1\n",
    "                if(window_size <= pos and pos < (len(signals) - window_size)):\n",
    "                    beat = signals[pos-window_size:pos+window_size]     ## REPLACE WITH R-PEAK DETECTION\n",
    "                    # Plot an example to a beat    \n",
    "                    if r == 1 and not example_beat_printed: \n",
    "                        plt.title(\"A Beat from \" + records[1] + \" Wave\")\n",
    "                        plt.plot(beat)\n",
    "                        plt.show()\n",
    "                        example_beat_printed = True\n",
    "\n",
    "                    X.append(beat)\n",
    "                    y.append(arrhythmia_index)\n",
    "\n",
    "# data shape\n",
    "print(np.shape(X), np.shape(y))\n"
   ]
  },
  {
   "cell_type": "code",
   "execution_count": 24,
   "id": "recreational-norway",
   "metadata": {
    "execution": {
     "iopub.execute_input": "2023-12-20T08:48:26.910477Z",
     "iopub.status.busy": "2023-12-20T08:48:26.909775Z",
     "iopub.status.idle": "2023-12-20T08:48:27.603852Z",
     "shell.execute_reply": "2023-12-20T08:48:27.603189Z",
     "shell.execute_reply.started": "2023-12-20T07:58:31.856321Z"
    },
    "papermill": {
     "duration": 0.729354,
     "end_time": "2023-12-20T08:48:27.603992",
     "exception": false,
     "start_time": "2023-12-20T08:48:26.874638",
     "status": "completed"
    },
    "tags": []
   },
   "outputs": [
    {
     "name": "stdout",
     "output_type": "stream",
     "text": [
      "(100012, 361)\n"
     ]
    }
   ],
   "source": [
    "for i in range(0,len(X)):\n",
    "        X[i] = np.append(X[i], y[i])\n",
    "#         X[i].append(y[i])\n",
    "\n",
    "print(np.shape(X))"
   ]
  },
  {
   "cell_type": "markdown",
   "id": "beneficial-cologne",
   "metadata": {
    "papermill": {
     "duration": 0.031164,
     "end_time": "2023-12-20T08:48:27.666634",
     "exception": false,
     "start_time": "2023-12-20T08:48:27.635470",
     "status": "completed"
    },
    "tags": []
   },
   "source": [
    "# Classes Distribution"
   ]
  },
  {
   "cell_type": "code",
   "execution_count": 25,
   "id": "cordless-nudist",
   "metadata": {
    "execution": {
     "iopub.execute_input": "2023-12-20T08:48:27.743262Z",
     "iopub.status.busy": "2023-12-20T08:48:27.738302Z",
     "iopub.status.idle": "2023-12-20T08:48:36.975882Z",
     "shell.execute_reply": "2023-12-20T08:48:36.975180Z",
     "shell.execute_reply.started": "2023-12-20T07:58:33.103706Z"
    },
    "papermill": {
     "duration": 9.277493,
     "end_time": "2023-12-20T08:48:36.976059",
     "exception": false,
     "start_time": "2023-12-20T08:48:27.698566",
     "status": "completed"
    },
    "tags": []
   },
   "outputs": [
    {
     "name": "stdout",
     "output_type": "stream",
     "text": [
      "360\n",
      "0.0    75011\n",
      "1.0     8071\n",
      "2.0     7255\n",
      "4.0     7129\n",
      "3.0     2546\n",
      "Name: count, dtype: int64\n"
     ]
    },
    {
     "data": {
      "image/png": "[encoded data removed]",
      "text/plain": [
       "<Figure size 2000x1000 with 1 Axes>"
      ]
     },
     "metadata": {},
     "output_type": "display_data"
    }
   ],
   "source": [
    "X_train_df = pd.DataFrame(X)\n",
    "per_class = X_train_df[X_train_df.shape[1]-1].value_counts()\n",
    "print(per_class)\n",
    "plt.figure(figsize=(20,10))\n",
    "my_circle=plt.Circle( (0,0), 0.7, color='white')\n",
    "plt.pie(per_class, labels=['N', 'L', 'R', 'A', 'V'], colors=['tab:blue','tab:orange','tab:purple','tab:olive','tab:green'],autopct='%1.1f%%')\n",
    "p=plt.gcf()\n",
    "p.gca().add_artist(my_circle)\n",
    "plt.show()"
   ]
  },
  {
   "cell_type": "markdown",
   "id": "applicable-british",
   "metadata": {
    "papermill": {
     "duration": 0.032868,
     "end_time": "2023-12-20T08:48:37.041721",
     "exception": false,
     "start_time": "2023-12-20T08:48:37.008853",
     "status": "completed"
    },
    "tags": []
   },
   "source": [
    "# Rebalancing Classes"
   ]
  },
  {
   "cell_type": "code",
   "execution_count": 26,
   "id": "integral-highway",
   "metadata": {
    "execution": {
     "iopub.execute_input": "2023-12-20T08:48:37.115821Z",
     "iopub.status.busy": "2023-12-20T08:48:37.115101Z",
     "iopub.status.idle": "2023-12-20T08:48:37.361391Z",
     "shell.execute_reply": "2023-12-20T08:48:37.360768Z",
     "shell.execute_reply.started": "2023-12-20T07:59:00.168684Z"
    },
    "papermill": {
     "duration": 0.286906,
     "end_time": "2023-12-20T08:48:37.361549",
     "exception": false,
     "start_time": "2023-12-20T08:48:37.074643",
     "status": "completed"
    },
    "tags": []
   },
   "outputs": [],
   "source": [
    "df_1=X_train_df[X_train_df[X_train_df.shape[1]-1]==1]\n",
    "df_2=X_train_df[X_train_df[X_train_df.shape[1]-1]==2]\n",
    "df_3=X_train_df[X_train_df[X_train_df.shape[1]-1]==3]\n",
    "df_4=X_train_df[X_train_df[X_train_df.shape[1]-1]==4]\n",
    "# df_5=X_train_df[X_train_df[X_train_df.shape[1]-1]==5]\n",
    "df_0=(X_train_df[X_train_df[X_train_df.shape[1]-1]==0]).sample(n=5000,random_state=42)\n",
    "\n",
    "df_1_upsample=resample(df_1,replace=True,n_samples=5000,random_state=122)\n",
    "df_2_upsample=resample(df_2,replace=True,n_samples=5000,random_state=123)\n",
    "df_3_upsample=resample(df_3,replace=True,n_samples=5000,random_state=124)\n",
    "df_4_upsample=resample(df_4,replace=True,n_samples=5000,random_state=125)\n",
    "# df_5_upsample=resample(df_5,replace=True,n_samples=5000,random_state=126)\n",
    "\n",
    "# X_train_df=pd.concat([df_0,df_1_upsample,df_2_upsample,df_3_upsample,df_4_upsample,df_5_upsample])\n",
    "X_train_df=pd.concat([df_0,df_1_upsample,df_2_upsample,df_3_upsample,df_4_upsample])"
   ]
  },
  {
   "cell_type": "code",
   "execution_count": 27,
   "id": "sustained-cardiff",
   "metadata": {
    "execution": {
     "iopub.execute_input": "2023-12-20T08:48:37.434968Z",
     "iopub.status.busy": "2023-12-20T08:48:37.434150Z",
     "iopub.status.idle": "2023-12-20T08:48:37.548377Z",
     "shell.execute_reply": "2023-12-20T08:48:37.547931Z",
     "shell.execute_reply.started": "2023-12-20T07:59:00.402901Z"
    },
    "papermill": {
     "duration": 0.153364,
     "end_time": "2023-12-20T08:48:37.548506",
     "exception": false,
     "start_time": "2023-12-20T08:48:37.395142",
     "status": "completed"
    },
    "tags": []
   },
   "outputs": [
    {
     "name": "stdout",
     "output_type": "stream",
     "text": [
      "360\n",
      "0.0    5000\n",
      "1.0    5000\n",
      "2.0    5000\n",
      "3.0    5000\n",
      "4.0    5000\n",
      "Name: count, dtype: int64\n"
     ]
    },
    {
     "data": {
      "image/png": "[encoded data removed]",
      "text/plain": [
       "<Figure size 2000x1000 with 1 Axes>"
      ]
     },
     "metadata": {},
     "output_type": "display_data"
    }
   ],
   "source": [
    "per_class = X_train_df[X_train_df.shape[1]-1].value_counts()\n",
    "print(per_class)\n",
    "plt.figure(figsize=(20,10))\n",
    "my_circle=plt.Circle( (0,0), 0.7, color='white')\n",
    "plt.pie(per_class, labels=['N', 'L', 'R', 'A', 'V'], colors=['tab:blue','tab:orange','tab:purple','tab:olive','tab:green'],autopct='%1.1f%%')\n",
    "p=plt.gcf()\n",
    "p.gca().add_artist(my_circle)\n",
    "plt.show()"
   ]
  },
  {
   "cell_type": "markdown",
   "id": "iraqi-psychology",
   "metadata": {
    "papermill": {
     "duration": 0.03363,
     "end_time": "2023-12-20T08:48:37.618212",
     "exception": false,
     "start_time": "2023-12-20T08:48:37.584582",
     "status": "completed"
    },
    "tags": []
   },
   "source": [
    "# Train-Test Split"
   ]
  },
  {
   "cell_type": "code",
   "execution_count": 28,
   "id": "australian-adaptation",
   "metadata": {
    "execution": {
     "iopub.execute_input": "2023-12-20T08:48:37.693150Z",
     "iopub.status.busy": "2023-12-20T08:48:37.692456Z",
     "iopub.status.idle": "2023-12-20T08:48:37.745895Z",
     "shell.execute_reply": "2023-12-20T08:48:37.746326Z",
     "shell.execute_reply.started": "2023-12-20T07:59:00.563787Z"
    },
    "papermill": {
     "duration": 0.094102,
     "end_time": "2023-12-20T08:48:37.746496",
     "exception": false,
     "start_time": "2023-12-20T08:48:37.652394",
     "status": "completed"
    },
    "tags": []
   },
   "outputs": [
    {
     "name": "stdout",
     "output_type": "stream",
     "text": [
      "X_train :  (20000, 361)\n",
      "X_test  :  (5000, 361)\n"
     ]
    }
   ],
   "source": [
    "train, test = train_test_split(X_train_df, test_size=0.20)\n",
    "\n",
    "print(\"X_train : \", np.shape(train))\n",
    "print(\"X_test  : \", np.shape(test))"
   ]
  },
  {
   "cell_type": "code",
   "execution_count": 29,
   "id": "french-feeling",
   "metadata": {
    "execution": {
     "iopub.execute_input": "2023-12-20T08:48:37.820794Z",
     "iopub.status.busy": "2023-12-20T08:48:37.820081Z",
     "iopub.status.idle": "2023-12-20T08:48:37.824630Z",
     "shell.execute_reply": "2023-12-20T08:48:37.823974Z",
     "shell.execute_reply.started": "2023-12-20T07:59:00.636216Z"
    },
    "papermill": {
     "duration": 0.043944,
     "end_time": "2023-12-20T08:48:37.824769",
     "exception": false,
     "start_time": "2023-12-20T08:48:37.780825",
     "status": "completed"
    },
    "tags": []
   },
   "outputs": [
    {
     "name": "stdout",
     "output_type": "stream",
     "text": [
      "(20000, 5) (5000, 5)\n"
     ]
    }
   ],
   "source": [
    "target_train=train[train.shape[1]-1]\n",
    "target_test=test[test.shape[1]-1]\n",
    "train_y=to_categorical(target_train)\n",
    "test_y=to_categorical(target_test)\n",
    "print(np.shape(train_y), np.shape(test_y))"
   ]
  },
  {
   "cell_type": "code",
   "execution_count": 30,
   "id": "alive-budapest",
   "metadata": {
    "execution": {
     "iopub.execute_input": "2023-12-20T08:48:37.900669Z",
     "iopub.status.busy": "2023-12-20T08:48:37.900013Z",
     "iopub.status.idle": "2023-12-20T08:48:37.904277Z",
     "shell.execute_reply": "2023-12-20T08:48:37.903648Z",
     "shell.execute_reply.started": "2023-12-20T07:59:00.646523Z"
    },
    "papermill": {
     "duration": 0.045495,
     "end_time": "2023-12-20T08:48:37.904413",
     "exception": false,
     "start_time": "2023-12-20T08:48:37.858918",
     "status": "completed"
    },
    "tags": []
   },
   "outputs": [
    {
     "name": "stdout",
     "output_type": "stream",
     "text": [
      "(20000, 360, 1) (5000, 360, 1)\n"
     ]
    }
   ],
   "source": [
    "train_x = train.iloc[:,:train.shape[1]-1].values\n",
    "test_x = test.iloc[:,:test.shape[1]-1].values\n",
    "train_x = train_x.reshape(len(train_x), train_x.shape[1],1)\n",
    "test_x = test_x.reshape(len(test_x), test_x.shape[1],1)\n",
    "print(np.shape(train_x), np.shape(test_x))"
   ]
  },
  {
   "cell_type": "markdown",
   "id": "popular-behalf",
   "metadata": {
    "papermill": {
     "duration": 0.03434,
     "end_time": "2023-12-20T08:48:37.974333",
     "exception": false,
     "start_time": "2023-12-20T08:48:37.939993",
     "status": "completed"
    },
    "tags": []
   },
   "source": [
    "## Building the Model Architecture\n"
   ]
  },
  {
   "cell_type": "code",
   "execution_count": 19,
   "id": "complimentary-wages",
   "metadata": {
    "execution": {
     "iopub.execute_input": "2023-12-20T08:48:38.048698Z",
     "iopub.status.busy": "2023-12-20T08:48:38.047814Z",
     "iopub.status.idle": "2023-12-20T08:48:38.218810Z",
     "shell.execute_reply": "2023-12-20T08:48:38.219297Z",
     "shell.execute_reply.started": "2023-12-20T07:59:00.660569Z"
    },
    "papermill": {
     "duration": 0.210599,
     "end_time": "2023-12-20T08:48:38.219479",
     "exception": false,
     "start_time": "2023-12-20T08:48:38.008880",
     "status": "completed"
    },
    "tags": []
   },
   "outputs": [
    {
     "name": "stderr",
     "output_type": "stream",
     "text": [
      "c:\\Users\\Sistemas\\miniconda3\\Lib\\site-packages\\keras\\src\\layers\\convolutional\\base_conv.py:99: UserWarning: Do not pass an `input_shape`/`input_dim` argument to a layer. When using Sequential models, prefer using an `Input(shape)` object as the first layer in the model instead.\n",
      "  super().__init__(\n"
     ]
    },
    {
     "data": {
      "text/html": [
       "<pre style=\"white-space:pre;overflow-x:auto;line-height:normal;font-family:Menlo,'DejaVu Sans Mono',consolas,'Courier New',monospace\"><span style=\"font-weight: bold\">Model: \"sequential\"</span>\n",
       "</pre>\n"
      ],
      "text/plain": [
       "\u001b[1mModel: \"sequential\"\u001b[0m\n"
      ]
     },
     "metadata": {},
     "output_type": "display_data"
    },
    {
     "data": {
      "text/html": [
       "<pre style=\"white-space:pre;overflow-x:auto;line-height:normal;font-family:Menlo,'DejaVu Sans Mono',consolas,'Courier New',monospace\">┏━━━━━━━━━━━━━━━━━━━━━━━━━━━━━━━━━┳━━━━━━━━━━━━━━━━━━━━━━━━┳━━━━━━━━━━━━━━━┓\n",
       "┃<span style=\"font-weight: bold\"> Layer (type)                    </span>┃<span style=\"font-weight: bold\"> Output Shape           </span>┃<span style=\"font-weight: bold\">       Param # </span>┃\n",
       "┡━━━━━━━━━━━━━━━━━━━━━━━━━━━━━━━━━╇━━━━━━━━━━━━━━━━━━━━━━━━╇━━━━━━━━━━━━━━━┩\n",
       "│ conv1d (<span style=\"color: #0087ff; text-decoration-color: #0087ff\">Conv1D</span>)                 │ (<span style=\"color: #00d7ff; text-decoration-color: #00d7ff\">None</span>, <span style=\"color: #00af00; text-decoration-color: #00af00\">360</span>, <span style=\"color: #00af00; text-decoration-color: #00af00\">16</span>)        │           <span style=\"color: #00af00; text-decoration-color: #00af00\">224</span> │\n",
       "├─────────────────────────────────┼────────────────────────┼───────────────┤\n",
       "│ average_pooling1d               │ (<span style=\"color: #00d7ff; text-decoration-color: #00d7ff\">None</span>, <span style=\"color: #00af00; text-decoration-color: #00af00\">179</span>, <span style=\"color: #00af00; text-decoration-color: #00af00\">16</span>)        │             <span style=\"color: #00af00; text-decoration-color: #00af00\">0</span> │\n",
       "│ (<span style=\"color: #0087ff; text-decoration-color: #0087ff\">AveragePooling1D</span>)              │                        │               │\n",
       "├─────────────────────────────────┼────────────────────────┼───────────────┤\n",
       "│ conv1d_1 (<span style=\"color: #0087ff; text-decoration-color: #0087ff\">Conv1D</span>)               │ (<span style=\"color: #00d7ff; text-decoration-color: #00d7ff\">None</span>, <span style=\"color: #00af00; text-decoration-color: #00af00\">179</span>, <span style=\"color: #00af00; text-decoration-color: #00af00\">32</span>)        │         <span style=\"color: #00af00; text-decoration-color: #00af00\">7,712</span> │\n",
       "├─────────────────────────────────┼────────────────────────┼───────────────┤\n",
       "│ average_pooling1d_1             │ (<span style=\"color: #00d7ff; text-decoration-color: #00d7ff\">None</span>, <span style=\"color: #00af00; text-decoration-color: #00af00\">89</span>, <span style=\"color: #00af00; text-decoration-color: #00af00\">32</span>)         │             <span style=\"color: #00af00; text-decoration-color: #00af00\">0</span> │\n",
       "│ (<span style=\"color: #0087ff; text-decoration-color: #0087ff\">AveragePooling1D</span>)              │                        │               │\n",
       "├─────────────────────────────────┼────────────────────────┼───────────────┤\n",
       "│ conv1d_2 (<span style=\"color: #0087ff; text-decoration-color: #0087ff\">Conv1D</span>)               │ (<span style=\"color: #00d7ff; text-decoration-color: #00d7ff\">None</span>, <span style=\"color: #00af00; text-decoration-color: #00af00\">89</span>, <span style=\"color: #00af00; text-decoration-color: #00af00\">64</span>)         │        <span style=\"color: #00af00; text-decoration-color: #00af00\">34,880</span> │\n",
       "├─────────────────────────────────┼────────────────────────┼───────────────┤\n",
       "│ average_pooling1d_2             │ (<span style=\"color: #00d7ff; text-decoration-color: #00d7ff\">None</span>, <span style=\"color: #00af00; text-decoration-color: #00af00\">44</span>, <span style=\"color: #00af00; text-decoration-color: #00af00\">64</span>)         │             <span style=\"color: #00af00; text-decoration-color: #00af00\">0</span> │\n",
       "│ (<span style=\"color: #0087ff; text-decoration-color: #0087ff\">AveragePooling1D</span>)              │                        │               │\n",
       "├─────────────────────────────────┼────────────────────────┼───────────────┤\n",
       "│ conv1d_3 (<span style=\"color: #0087ff; text-decoration-color: #0087ff\">Conv1D</span>)               │ (<span style=\"color: #00d7ff; text-decoration-color: #00d7ff\">None</span>, <span style=\"color: #00af00; text-decoration-color: #00af00\">44</span>, <span style=\"color: #00af00; text-decoration-color: #00af00\">128</span>)        │       <span style=\"color: #00af00; text-decoration-color: #00af00\">155,776</span> │\n",
       "├─────────────────────────────────┼────────────────────────┼───────────────┤\n",
       "│ average_pooling1d_3             │ (<span style=\"color: #00d7ff; text-decoration-color: #00d7ff\">None</span>, <span style=\"color: #00af00; text-decoration-color: #00af00\">21</span>, <span style=\"color: #00af00; text-decoration-color: #00af00\">128</span>)        │             <span style=\"color: #00af00; text-decoration-color: #00af00\">0</span> │\n",
       "│ (<span style=\"color: #0087ff; text-decoration-color: #0087ff\">AveragePooling1D</span>)              │                        │               │\n",
       "├─────────────────────────────────┼────────────────────────┼───────────────┤\n",
       "│ flatten (<span style=\"color: #0087ff; text-decoration-color: #0087ff\">Flatten</span>)               │ (<span style=\"color: #00d7ff; text-decoration-color: #00d7ff\">None</span>, <span style=\"color: #00af00; text-decoration-color: #00af00\">2688</span>)           │             <span style=\"color: #00af00; text-decoration-color: #00af00\">0</span> │\n",
       "├─────────────────────────────────┼────────────────────────┼───────────────┤\n",
       "│ dropout (<span style=\"color: #0087ff; text-decoration-color: #0087ff\">Dropout</span>)               │ (<span style=\"color: #00d7ff; text-decoration-color: #00d7ff\">None</span>, <span style=\"color: #00af00; text-decoration-color: #00af00\">2688</span>)           │             <span style=\"color: #00af00; text-decoration-color: #00af00\">0</span> │\n",
       "├─────────────────────────────────┼────────────────────────┼───────────────┤\n",
       "│ dense (<span style=\"color: #0087ff; text-decoration-color: #0087ff\">Dense</span>)                   │ (<span style=\"color: #00d7ff; text-decoration-color: #00d7ff\">None</span>, <span style=\"color: #00af00; text-decoration-color: #00af00\">35</span>)             │        <span style=\"color: #00af00; text-decoration-color: #00af00\">94,115</span> │\n",
       "├─────────────────────────────────┼────────────────────────┼───────────────┤\n",
       "│ dense_1 (<span style=\"color: #0087ff; text-decoration-color: #0087ff\">Dense</span>)                 │ (<span style=\"color: #00d7ff; text-decoration-color: #00d7ff\">None</span>, <span style=\"color: #00af00; text-decoration-color: #00af00\">5</span>)              │           <span style=\"color: #00af00; text-decoration-color: #00af00\">180</span> │\n",
       "├─────────────────────────────────┼────────────────────────┼───────────────┤\n",
       "│ softmax (<span style=\"color: #0087ff; text-decoration-color: #0087ff\">Softmax</span>)               │ (<span style=\"color: #00d7ff; text-decoration-color: #00d7ff\">None</span>, <span style=\"color: #00af00; text-decoration-color: #00af00\">5</span>)              │             <span style=\"color: #00af00; text-decoration-color: #00af00\">0</span> │\n",
       "└─────────────────────────────────┴────────────────────────┴───────────────┘\n",
       "</pre>\n"
      ],
      "text/plain": [
       "┏━━━━━━━━━━━━━━━━━━━━━━━━━━━━━━━━━┳━━━━━━━━━━━━━━━━━━━━━━━━┳━━━━━━━━━━━━━━━┓\n",
       "┃\u001b[1m \u001b[0m\u001b[1mLayer (type)                   \u001b[0m\u001b[1m \u001b[0m┃\u001b[1m \u001b[0m\u001b[1mOutput Shape          \u001b[0m\u001b[1m \u001b[0m┃\u001b[1m \u001b[0m\u001b[1m      Param #\u001b[0m\u001b[1m \u001b[0m┃\n",
       "┡━━━━━━━━━━━━━━━━━━━━━━━━━━━━━━━━━╇━━━━━━━━━━━━━━━━━━━━━━━━╇━━━━━━━━━━━━━━━┩\n",
       "│ conv1d (\u001b[38;5;33mConv1D\u001b[0m)                 │ (\u001b[38;5;45mNone\u001b[0m, \u001b[38;5;34m360\u001b[0m, \u001b[38;5;34m16\u001b[0m)        │           \u001b[38;5;34m224\u001b[0m │\n",
       "├─────────────────────────────────┼────────────────────────┼───────────────┤\n",
       "│ average_pooling1d               │ (\u001b[38;5;45mNone\u001b[0m, \u001b[38;5;34m179\u001b[0m, \u001b[38;5;34m16\u001b[0m)        │             \u001b[38;5;34m0\u001b[0m │\n",
       "│ (\u001b[38;5;33mAveragePooling1D\u001b[0m)              │                        │               │\n",
       "├─────────────────────────────────┼────────────────────────┼───────────────┤\n",
       "│ conv1d_1 (\u001b[38;5;33mConv1D\u001b[0m)               │ (\u001b[38;5;45mNone\u001b[0m, \u001b[38;5;34m179\u001b[0m, \u001b[38;5;34m32\u001b[0m)        │         \u001b[38;5;34m7,712\u001b[0m │\n",
       "├─────────────────────────────────┼────────────────────────┼───────────────┤\n",
       "│ average_pooling1d_1             │ (\u001b[38;5;45mNone\u001b[0m, \u001b[38;5;34m89\u001b[0m, \u001b[38;5;34m32\u001b[0m)         │             \u001b[38;5;34m0\u001b[0m │\n",
       "│ (\u001b[38;5;33mAveragePooling1D\u001b[0m)              │                        │               │\n",
       "├─────────────────────────────────┼────────────────────────┼───────────────┤\n",
       "│ conv1d_2 (\u001b[38;5;33mConv1D\u001b[0m)               │ (\u001b[38;5;45mNone\u001b[0m, \u001b[38;5;34m89\u001b[0m, \u001b[38;5;34m64\u001b[0m)         │        \u001b[38;5;34m34,880\u001b[0m │\n",
       "├─────────────────────────────────┼────────────────────────┼───────────────┤\n",
       "│ average_pooling1d_2             │ (\u001b[38;5;45mNone\u001b[0m, \u001b[38;5;34m44\u001b[0m, \u001b[38;5;34m64\u001b[0m)         │             \u001b[38;5;34m0\u001b[0m │\n",
       "│ (\u001b[38;5;33mAveragePooling1D\u001b[0m)              │                        │               │\n",
       "├─────────────────────────────────┼────────────────────────┼───────────────┤\n",
       "│ conv1d_3 (\u001b[38;5;33mConv1D\u001b[0m)               │ (\u001b[38;5;45mNone\u001b[0m, \u001b[38;5;34m44\u001b[0m, \u001b[38;5;34m128\u001b[0m)        │       \u001b[38;5;34m155,776\u001b[0m │\n",
       "├─────────────────────────────────┼────────────────────────┼───────────────┤\n",
       "│ average_pooling1d_3             │ (\u001b[38;5;45mNone\u001b[0m, \u001b[38;5;34m21\u001b[0m, \u001b[38;5;34m128\u001b[0m)        │             \u001b[38;5;34m0\u001b[0m │\n",
       "│ (\u001b[38;5;33mAveragePooling1D\u001b[0m)              │                        │               │\n",
       "├─────────────────────────────────┼────────────────────────┼───────────────┤\n",
       "│ flatten (\u001b[38;5;33mFlatten\u001b[0m)               │ (\u001b[38;5;45mNone\u001b[0m, \u001b[38;5;34m2688\u001b[0m)           │             \u001b[38;5;34m0\u001b[0m │\n",
       "├─────────────────────────────────┼────────────────────────┼───────────────┤\n",
       "│ dropout (\u001b[38;5;33mDropout\u001b[0m)               │ (\u001b[38;5;45mNone\u001b[0m, \u001b[38;5;34m2688\u001b[0m)           │             \u001b[38;5;34m0\u001b[0m │\n",
       "├─────────────────────────────────┼────────────────────────┼───────────────┤\n",
       "│ dense (\u001b[38;5;33mDense\u001b[0m)                   │ (\u001b[38;5;45mNone\u001b[0m, \u001b[38;5;34m35\u001b[0m)             │        \u001b[38;5;34m94,115\u001b[0m │\n",
       "├─────────────────────────────────┼────────────────────────┼───────────────┤\n",
       "│ dense_1 (\u001b[38;5;33mDense\u001b[0m)                 │ (\u001b[38;5;45mNone\u001b[0m, \u001b[38;5;34m5\u001b[0m)              │           \u001b[38;5;34m180\u001b[0m │\n",
       "├─────────────────────────────────┼────────────────────────┼───────────────┤\n",
       "│ softmax (\u001b[38;5;33mSoftmax\u001b[0m)               │ (\u001b[38;5;45mNone\u001b[0m, \u001b[38;5;34m5\u001b[0m)              │             \u001b[38;5;34m0\u001b[0m │\n",
       "└─────────────────────────────────┴────────────────────────┴───────────────┘\n"
      ]
     },
     "metadata": {},
     "output_type": "display_data"
    },
    {
     "data": {
      "text/html": [
       "<pre style=\"white-space:pre;overflow-x:auto;line-height:normal;font-family:Menlo,'DejaVu Sans Mono',consolas,'Courier New',monospace\"><span style=\"font-weight: bold\"> Total params: </span><span style=\"color: #00af00; text-decoration-color: #00af00\">292,887</span> (1.12 MB)\n",
       "</pre>\n"
      ],
      "text/plain": [
       "\u001b[1m Total params: \u001b[0m\u001b[38;5;34m292,887\u001b[0m (1.12 MB)\n"
      ]
     },
     "metadata": {},
     "output_type": "display_data"
    },
    {
     "data": {
      "text/html": [
       "<pre style=\"white-space:pre;overflow-x:auto;line-height:normal;font-family:Menlo,'DejaVu Sans Mono',consolas,'Courier New',monospace\"><span style=\"font-weight: bold\"> Trainable params: </span><span style=\"color: #00af00; text-decoration-color: #00af00\">292,887</span> (1.12 MB)\n",
       "</pre>\n"
      ],
      "text/plain": [
       "\u001b[1m Trainable params: \u001b[0m\u001b[38;5;34m292,887\u001b[0m (1.12 MB)\n"
      ]
     },
     "metadata": {},
     "output_type": "display_data"
    },
    {
     "data": {
      "text/html": [
       "<pre style=\"white-space:pre;overflow-x:auto;line-height:normal;font-family:Menlo,'DejaVu Sans Mono',consolas,'Courier New',monospace\"><span style=\"font-weight: bold\"> Non-trainable params: </span><span style=\"color: #00af00; text-decoration-color: #00af00\">0</span> (0.00 B)\n",
       "</pre>\n"
      ],
      "text/plain": [
       "\u001b[1m Non-trainable params: \u001b[0m\u001b[38;5;34m0\u001b[0m (0.00 B)\n"
      ]
     },
     "metadata": {},
     "output_type": "display_data"
    }
   ],
   "source": [
    "# Instanciate an empty model\n",
    "model = Sequential()\n",
    "\n",
    "# Adding a Convolution Layer C1\n",
    "# Input shape = N = (360 x 1)\n",
    "# No. of filters  = 16\n",
    "# Filter size = f = (13 x 1)\n",
    "# Padding = true\n",
    "# Strides = S = 1\n",
    "# Size of each feature map in C1 is (N-f+2P)/S +1 = 360-13+2*6 +1 = 360\n",
    "# No. of parameters between input layer and C1 = (13*1 + 1)*16 = 224\n",
    "model.add(Conv1D(filters=16, kernel_size=13, padding='same', activation='relu',input_shape=(360, 1)))\n",
    "\n",
    "\n",
    "# Adding an Average Pooling Layer S2\n",
    "# Input shape = N = (360 x 16)\n",
    "# No. of filters = 16\n",
    "# Filter size = f = (3 x 1)\n",
    "# Padding = P = 0\n",
    "# Strides = S = 2\n",
    "# Size of each feature map in S2 is (N-f+2P+1)/S = (360-3+0+1)/2 = 179\n",
    "# No. of parameters between C1 and S2 = (1+1)*16 = 32\n",
    "model.add(AvgPool1D(pool_size=3, strides=2))\n",
    "\n",
    "\n",
    "\n",
    "\n",
    "\n",
    "# Adding a Convolution Layer C3\n",
    "# Input shape = N = (179 x 16)\n",
    "# No. of filters  = 32\n",
    "# Filter size = f = (15 x 1)\n",
    "# Padding = true\n",
    "# Strides = S = 1\n",
    "# Size of each feature map in C1 is (N-f+2P)/S +1 = 179-15+2*7 +1 = 360\n",
    "# No. of parameters between input layer and C1 = (15*1 + 1)*32 = 512\n",
    "model.add(Conv1D(filters=32, kernel_size=15, padding='same', activation='relu'))\n",
    "\n",
    "\n",
    "# Adding an Average Pooling Layer S4\n",
    "# Input shape = N = (179 x 32)\n",
    "# No. of filters = 32\n",
    "# Filter size = f = (3 x 1)\n",
    "# Padding = P = 0\n",
    "# Strides = S = 2\n",
    "# Size of each feature map in S2 is (N-f+2P+1)/S = (179-3+0+1)/2 = 89\n",
    "# No. of parameters between C1 and S2 = (1+1)*32 = 64\n",
    "model.add(AvgPool1D(pool_size=3, strides=2))\n",
    "\n",
    "\n",
    "\n",
    "# Adding a Convolution Layer C5\n",
    "# Input shape = N = (89 x 32)\n",
    "# No. of filters  = 64\n",
    "# Filter size = f = (17 x 1)\n",
    "# Padding = true\n",
    "# Strides = S = 1\n",
    "# Size of each feature map in C1 is (N-f+2P)/S +1 = 89-17+2*8 +1 = 89\n",
    "# No. of parameters between input layer and C1 = (17*1 + 1)*64 = 1152\n",
    "model.add(Conv1D(filters=64, kernel_size=17, padding='same', activation='relu'))\n",
    "\n",
    "\n",
    "\n",
    "# Adding an Average Pooling Layer S6\n",
    "# Input shape = N = (89 x 64)\n",
    "# No. of filters = 64\n",
    "# Filter size = f = (3 x 1)\n",
    "# Padding = P = 0\n",
    "# Strides = S = 2\n",
    "# Size of each feature map in S2 is (N-f+2P+1)/S = (89-3+0+1)/2 = 44\n",
    "# No. of parameters between C1 and S2 = (1+1)*64 = 128\n",
    "model.add(AvgPool1D(pool_size=3, strides=2))\n",
    "\n",
    "\n",
    "\n",
    "# Adding a Convolution Layer C7\n",
    "# Input shape = N = (44 x 64)\n",
    "# No. of filters  = 128\n",
    "# Filter size = f = (19 x 1)\n",
    "# Padding = true\n",
    "# Strides = S = 1\n",
    "# Size of each feature map in C1 is (N-f+2P)/S +1 = 44-19+2*9 +1 = 44\n",
    "# No. of parameters between input layer and C1 = (19*1 + 1)*128 = 2560\n",
    "model.add(Conv1D(filters=128, kernel_size=19, padding='same', activation='relu'))\n",
    "\n",
    "\n",
    "# Adding an Average Pooling Layer S8\n",
    "# Input shape = N = (44 x 128)\n",
    "# No. of filters = 128\n",
    "# Filter size = f = (3 x 1)\n",
    "# Padding = P = 0\n",
    "# Strides = S = 2\n",
    "# Size of each feature map in S2 is (N-f+2P+1)/S = (44-3+0+1)/2 = 21\n",
    "# No. of parameters between C1 and S2 = (1+1)*128 = 256\n",
    "model.add(AvgPool1D(pool_size=3, strides=2))\n",
    "\n",
    "\n",
    "\n",
    "# Flattening the layer \n",
    "# There would be 128*(21*1) = 2688 neurons\n",
    "model.add(Flatten())\n",
    "\n",
    "\n",
    "# Dropout the layer S9\n",
    "model.add(Dropout(0.5))\n",
    "\n",
    "\n",
    "\n",
    "# Adding a Dense layer with regularization l2(0.0001)# S10\n",
    "# No. of inputs = 2688\n",
    "# No. of outputs = 35\n",
    "# No. of parameters = 2688 x 35 + 35 = 94115\n",
    "model.add(Dense(35,kernel_regularizer=regularizers.l2(0.0001), bias_regularizer=regularizers.l2(0.0001)))\n",
    "\n",
    "\n",
    "\n",
    "# Adding a Dense layer with regularization l2(0.0001)# S11\n",
    "# No. of inputs = 35\n",
    "# No. of outputs = 5\n",
    "# No. of parameters = 35*5 + 5 = 180\n",
    "model.add(Dense(5,kernel_regularizer=regularizers.l2(0.0001), bias_regularizer=regularizers.l2(0.0001)))\n",
    "\n",
    "\n",
    "\n",
    "# Adding a Softmax layer S12\n",
    "# No. of inputs = 5\n",
    "# No. of outputs = 5\n",
    "model.add(Softmax())\n",
    "\n",
    "\n",
    "model.summary()"
   ]
  },
  {
   "cell_type": "markdown",
   "id": "declared-species",
   "metadata": {
    "papermill": {
     "duration": 0.035539,
     "end_time": "2023-12-20T08:48:38.291811",
     "exception": false,
     "start_time": "2023-12-20T08:48:38.256272",
     "status": "completed"
    },
    "tags": []
   },
   "source": [
    "## Compiling the model"
   ]
  },
  {
   "cell_type": "code",
   "execution_count": 20,
   "id": "developmental-bracket",
   "metadata": {
    "execution": {
     "iopub.execute_input": "2023-12-20T08:48:38.365919Z",
     "iopub.status.busy": "2023-12-20T08:48:38.365333Z",
     "iopub.status.idle": "2023-12-20T08:48:38.378628Z",
     "shell.execute_reply": "2023-12-20T08:48:38.379118Z",
     "shell.execute_reply.started": "2023-12-20T07:59:00.814825Z"
    },
    "papermill": {
     "duration": 0.051791,
     "end_time": "2023-12-20T08:48:38.379298",
     "exception": false,
     "start_time": "2023-12-20T08:48:38.327507",
     "status": "completed"
    },
    "tags": []
   },
   "outputs": [],
   "source": [
    "model.compile(loss='categorical_crossentropy', optimizer=Adam(), metrics=['accuracy'])"
   ]
  },
  {
   "cell_type": "markdown",
   "id": "norwegian-reader",
   "metadata": {
    "papermill": {
     "duration": 0.034948,
     "end_time": "2023-12-20T08:48:38.449595",
     "exception": false,
     "start_time": "2023-12-20T08:48:38.414647",
     "status": "completed"
    },
    "tags": []
   },
   "source": [
    "## Fitting the model"
   ]
  },
  {
   "cell_type": "code",
   "execution_count": 21,
   "id": "antique-accommodation",
   "metadata": {
    "execution": {
     "iopub.execute_input": "2023-12-20T08:48:38.525310Z",
     "iopub.status.busy": "2023-12-20T08:48:38.524573Z",
     "iopub.status.idle": "2023-12-20T09:09:27.771493Z",
     "shell.execute_reply": "2023-12-20T09:09:27.771052Z",
     "shell.execute_reply.started": "2023-12-20T07:59:00.831289Z"
    },
    "papermill": {
     "duration": 1249.287272,
     "end_time": "2023-12-20T09:09:27.771646",
     "exception": false,
     "start_time": "2023-12-20T08:48:38.484374",
     "status": "completed"
    },
    "tags": []
   },
   "outputs": [
    {
     "name": "stdout",
     "output_type": "stream",
     "text": [
      "Epoch 1/30\n",
      "\u001b[1m556/556\u001b[0m \u001b[32m━━━━━━━━━━━━━━━━━━━━\u001b[0m\u001b[37m\u001b[0m \u001b[1m8s\u001b[0m 13ms/step - accuracy: 0.7974 - loss: 0.5485 - val_accuracy: 0.9600 - val_loss: 0.1333\n",
      "Epoch 2/30\n",
      "\u001b[1m556/556\u001b[0m \u001b[32m━━━━━━━━━━━━━━━━━━━━\u001b[0m\u001b[37m\u001b[0m \u001b[1m7s\u001b[0m 12ms/step - accuracy: 0.9516 - loss: 0.1553 - val_accuracy: 0.9638 - val_loss: 0.1309\n",
      "Epoch 3/30\n",
      "\u001b[1m556/556\u001b[0m \u001b[32m━━━━━━━━━━━━━━━━━━━━\u001b[0m\u001b[37m\u001b[0m \u001b[1m7s\u001b[0m 12ms/step - accuracy: 0.9677 - loss: 0.1120 - val_accuracy: 0.9734 - val_loss: 0.0885\n",
      "Epoch 4/30\n",
      "\u001b[1m556/556\u001b[0m \u001b[32m━━━━━━━━━━━━━━━━━━━━\u001b[0m\u001b[37m\u001b[0m \u001b[1m7s\u001b[0m 13ms/step - accuracy: 0.9726 - loss: 0.0975 - val_accuracy: 0.9806 - val_loss: 0.0758\n",
      "Epoch 5/30\n",
      "\u001b[1m556/556\u001b[0m \u001b[32m━━━━━━━━━━━━━━━━━━━━\u001b[0m\u001b[37m\u001b[0m \u001b[1m7s\u001b[0m 13ms/step - accuracy: 0.9769 - loss: 0.0821 - val_accuracy: 0.9820 - val_loss: 0.0680\n",
      "Epoch 6/30\n",
      "\u001b[1m556/556\u001b[0m \u001b[32m━━━━━━━━━━━━━━━━━━━━\u001b[0m\u001b[37m\u001b[0m \u001b[1m7s\u001b[0m 12ms/step - accuracy: 0.9782 - loss: 0.0797 - val_accuracy: 0.9820 - val_loss: 0.0747\n",
      "Epoch 7/30\n",
      "\u001b[1m556/556\u001b[0m \u001b[32m━━━━━━━━━━━━━━━━━━━━\u001b[0m\u001b[37m\u001b[0m \u001b[1m7s\u001b[0m 13ms/step - accuracy: 0.9827 - loss: 0.0683 - val_accuracy: 0.9826 - val_loss: 0.0687\n",
      "Epoch 8/30\n",
      "\u001b[1m556/556\u001b[0m \u001b[32m━━━━━━━━━━━━━━━━━━━━\u001b[0m\u001b[37m\u001b[0m \u001b[1m7s\u001b[0m 13ms/step - accuracy: 0.9830 - loss: 0.0649 - val_accuracy: 0.9874 - val_loss: 0.0539\n",
      "Epoch 9/30\n",
      "\u001b[1m556/556\u001b[0m \u001b[32m━━━━━━━━━━━━━━━━━━━━\u001b[0m\u001b[37m\u001b[0m \u001b[1m7s\u001b[0m 13ms/step - accuracy: 0.9847 - loss: 0.0591 - val_accuracy: 0.9874 - val_loss: 0.0527\n",
      "Epoch 10/30\n",
      "\u001b[1m556/556\u001b[0m \u001b[32m━━━━━━━━━━━━━━━━━━━━\u001b[0m\u001b[37m\u001b[0m \u001b[1m7s\u001b[0m 13ms/step - accuracy: 0.9873 - loss: 0.0547 - val_accuracy: 0.9896 - val_loss: 0.0470\n",
      "Epoch 11/30\n",
      "\u001b[1m556/556\u001b[0m \u001b[32m━━━━━━━━━━━━━━━━━━━━\u001b[0m\u001b[37m\u001b[0m \u001b[1m7s\u001b[0m 13ms/step - accuracy: 0.9878 - loss: 0.0501 - val_accuracy: 0.9880 - val_loss: 0.0530\n",
      "Epoch 12/30\n",
      "\u001b[1m556/556\u001b[0m \u001b[32m━━━━━━━━━━━━━━━━━━━━\u001b[0m\u001b[37m\u001b[0m \u001b[1m7s\u001b[0m 13ms/step - accuracy: 0.9854 - loss: 0.0580 - val_accuracy: 0.9906 - val_loss: 0.0497\n",
      "Epoch 13/30\n",
      "\u001b[1m556/556\u001b[0m \u001b[32m━━━━━━━━━━━━━━━━━━━━\u001b[0m\u001b[37m\u001b[0m \u001b[1m7s\u001b[0m 13ms/step - accuracy: 0.9904 - loss: 0.0423 - val_accuracy: 0.9872 - val_loss: 0.0557\n",
      "Epoch 14/30\n",
      "\u001b[1m556/556\u001b[0m \u001b[32m━━━━━━━━━━━━━━━━━━━━\u001b[0m\u001b[37m\u001b[0m \u001b[1m8s\u001b[0m 14ms/step - accuracy: 0.9904 - loss: 0.0414 - val_accuracy: 0.9856 - val_loss: 0.0631\n",
      "Epoch 15/30\n",
      "\u001b[1m556/556\u001b[0m \u001b[32m━━━━━━━━━━━━━━━━━━━━\u001b[0m\u001b[37m\u001b[0m \u001b[1m7s\u001b[0m 13ms/step - accuracy: 0.9913 - loss: 0.0389 - val_accuracy: 0.9896 - val_loss: 0.0485\n",
      "Epoch 16/30\n",
      "\u001b[1m556/556\u001b[0m \u001b[32m━━━━━━━━━━━━━━━━━━━━\u001b[0m\u001b[37m\u001b[0m \u001b[1m7s\u001b[0m 13ms/step - accuracy: 0.9908 - loss: 0.0409 - val_accuracy: 0.9920 - val_loss: 0.0416\n",
      "Epoch 17/30\n",
      "\u001b[1m556/556\u001b[0m \u001b[32m━━━━━━━━━━━━━━━━━━━━\u001b[0m\u001b[37m\u001b[0m \u001b[1m7s\u001b[0m 13ms/step - accuracy: 0.9928 - loss: 0.0353 - val_accuracy: 0.9900 - val_loss: 0.0472\n",
      "Epoch 18/30\n",
      "\u001b[1m556/556\u001b[0m \u001b[32m━━━━━━━━━━━━━━━━━━━━\u001b[0m\u001b[37m\u001b[0m \u001b[1m8s\u001b[0m 15ms/step - accuracy: 0.9929 - loss: 0.0352 - val_accuracy: 0.9910 - val_loss: 0.0443\n",
      "Epoch 19/30\n",
      "\u001b[1m556/556\u001b[0m \u001b[32m━━━━━━━━━━━━━━━━━━━━\u001b[0m\u001b[37m\u001b[0m \u001b[1m8s\u001b[0m 15ms/step - accuracy: 0.9919 - loss: 0.0389 - val_accuracy: 0.9918 - val_loss: 0.0426\n",
      "Epoch 20/30\n",
      "\u001b[1m556/556\u001b[0m \u001b[32m━━━━━━━━━━━━━━━━━━━━\u001b[0m\u001b[37m\u001b[0m \u001b[1m8s\u001b[0m 14ms/step - accuracy: 0.9917 - loss: 0.0351 - val_accuracy: 0.9886 - val_loss: 0.0537\n",
      "Epoch 21/30\n",
      "\u001b[1m556/556\u001b[0m \u001b[32m━━━━━━━━━━━━━━━━━━━━\u001b[0m\u001b[37m\u001b[0m \u001b[1m8s\u001b[0m 14ms/step - accuracy: 0.9950 - loss: 0.0290 - val_accuracy: 0.9876 - val_loss: 0.0691\n",
      "Epoch 22/30\n",
      "\u001b[1m556/556\u001b[0m \u001b[32m━━━━━━━━━━━━━━━━━━━━\u001b[0m\u001b[37m\u001b[0m \u001b[1m8s\u001b[0m 15ms/step - accuracy: 0.9920 - loss: 0.0388 - val_accuracy: 0.9924 - val_loss: 0.0431\n",
      "Epoch 23/30\n",
      "\u001b[1m556/556\u001b[0m \u001b[32m━━━━━━━━━━━━━━━━━━━━\u001b[0m\u001b[37m\u001b[0m \u001b[1m8s\u001b[0m 15ms/step - accuracy: 0.9945 - loss: 0.0317 - val_accuracy: 0.9918 - val_loss: 0.0411\n",
      "Epoch 24/30\n",
      "\u001b[1m556/556\u001b[0m \u001b[32m━━━━━━━━━━━━━━━━━━━━\u001b[0m\u001b[37m\u001b[0m \u001b[1m8s\u001b[0m 15ms/step - accuracy: 0.9947 - loss: 0.0287 - val_accuracy: 0.9878 - val_loss: 0.0529\n",
      "Epoch 25/30\n",
      "\u001b[1m556/556\u001b[0m \u001b[32m━━━━━━━━━━━━━━━━━━━━\u001b[0m\u001b[37m\u001b[0m \u001b[1m8s\u001b[0m 14ms/step - accuracy: 0.9937 - loss: 0.0320 - val_accuracy: 0.9916 - val_loss: 0.0408\n",
      "Epoch 26/30\n",
      "\u001b[1m556/556\u001b[0m \u001b[32m━━━━━━━━━━━━━━━━━━━━\u001b[0m\u001b[37m\u001b[0m \u001b[1m8s\u001b[0m 14ms/step - accuracy: 0.9958 - loss: 0.0230 - val_accuracy: 0.9918 - val_loss: 0.0385\n",
      "Epoch 27/30\n",
      "\u001b[1m556/556\u001b[0m \u001b[32m━━━━━━━━━━━━━━━━━━━━\u001b[0m\u001b[37m\u001b[0m \u001b[1m8s\u001b[0m 14ms/step - accuracy: 0.9951 - loss: 0.0263 - val_accuracy: 0.9914 - val_loss: 0.0474\n",
      "Epoch 28/30\n",
      "\u001b[1m556/556\u001b[0m \u001b[32m━━━━━━━━━━━━━━━━━━━━\u001b[0m\u001b[37m\u001b[0m \u001b[1m7s\u001b[0m 13ms/step - accuracy: 0.9946 - loss: 0.0271 - val_accuracy: 0.9932 - val_loss: 0.0388\n",
      "Epoch 29/30\n",
      "\u001b[1m556/556\u001b[0m \u001b[32m━━━━━━━━━━━━━━━━━━━━\u001b[0m\u001b[37m\u001b[0m \u001b[1m7s\u001b[0m 13ms/step - accuracy: 0.9919 - loss: 0.0385 - val_accuracy: 0.9932 - val_loss: 0.0417\n",
      "Epoch 30/30\n",
      "\u001b[1m556/556\u001b[0m \u001b[32m━━━━━━━━━━━━━━━━━━━━\u001b[0m\u001b[37m\u001b[0m \u001b[1m7s\u001b[0m 13ms/step - accuracy: 0.9973 - loss: 0.0185 - val_accuracy: 0.9930 - val_loss: 0.0396\n"
     ]
    }
   ],
   "source": [
    "history = model.fit(train_x, train_y, batch_size=36, epochs=30, verbose=1, validation_data=(test_x, test_y))"
   ]
  },
  {
   "cell_type": "markdown",
   "id": "immune-unknown",
   "metadata": {
    "papermill": {
     "duration": 4.331527,
     "end_time": "2023-12-20T09:09:36.384214",
     "exception": false,
     "start_time": "2023-12-20T09:09:32.052687",
     "status": "completed"
    },
    "tags": []
   },
   "source": [
    "**Plotting the loss convergence**"
   ]
  },
  {
   "cell_type": "code",
   "execution_count": 22,
   "id": "norman-manual",
   "metadata": {
    "execution": {
     "iopub.execute_input": "2023-12-20T09:09:45.015855Z",
     "iopub.status.busy": "2023-12-20T09:09:45.013111Z",
     "iopub.status.idle": "2023-12-20T09:09:45.203290Z",
     "shell.execute_reply": "2023-12-20T09:09:45.202792Z",
     "shell.execute_reply.started": "2023-12-20T08:24:03.960145Z"
    },
    "papermill": {
     "duration": 4.503364,
     "end_time": "2023-12-20T09:09:45.203430",
     "exception": false,
     "start_time": "2023-12-20T09:09:40.700066",
     "status": "completed"
    },
    "tags": []
   },
   "outputs": [
    {
     "data": {
      "image/png": "[encoded data removed]",
      "text/plain": [
       "<Figure size 3000x600 with 1 Axes>"
      ]
     },
     "metadata": {},
     "output_type": "display_data"
    }
   ],
   "source": [
    "# summarize history for loss\n",
    "plt.plot(history.history['loss'])\n",
    "plt.plot(history.history['val_loss'])\n",
    "plt.title('model loss')\n",
    "plt.ylabel('loss')\n",
    "plt.xlabel('epoch')\n",
    "plt.legend(['train', 'test'], loc='upper left')\n",
    "plt.show()"
   ]
  },
  {
   "cell_type": "markdown",
   "id": "dramatic-corrections",
   "metadata": {
    "papermill": {
     "duration": 4.260148,
     "end_time": "2023-12-20T09:09:53.677093",
     "exception": false,
     "start_time": "2023-12-20T09:09:49.416945",
     "status": "completed"
    },
    "tags": []
   },
   "source": [
    "**Plotting accuracy**"
   ]
  },
  {
   "cell_type": "code",
   "execution_count": 23,
   "id": "informational-blanket",
   "metadata": {
    "execution": {
     "iopub.execute_input": "2023-12-20T09:10:02.274934Z",
     "iopub.status.busy": "2023-12-20T09:10:02.274258Z",
     "iopub.status.idle": "2023-12-20T09:10:02.478890Z",
     "shell.execute_reply": "2023-12-20T09:10:02.479415Z",
     "shell.execute_reply.started": "2023-12-20T08:24:04.232612Z"
    },
    "papermill": {
     "duration": 4.521199,
     "end_time": "2023-12-20T09:10:02.479630",
     "exception": false,
     "start_time": "2023-12-20T09:09:57.958431",
     "status": "completed"
    },
    "tags": []
   },
   "outputs": [
    {
     "data": {
      "image/png": "[encoded data removed]",
      "text/plain": [
       "<Figure size 3000x600 with 1 Axes>"
      ]
     },
     "metadata": {},
     "output_type": "display_data"
    }
   ],
   "source": [
    "# summarize history for accuracy\n",
    "plt.plot(history.history['accuracy'])\n",
    "plt.plot(history.history['val_accuracy'])\n",
    "plt.title('model accuracy')\n",
    "plt.ylabel('accuracy')\n",
    "plt.xlabel('epoch')\n",
    "plt.legend(['train', 'test'], loc='upper left')\n",
    "plt.show()"
   ]
  },
  {
   "cell_type": "markdown",
   "id": "outstanding-senior",
   "metadata": {
    "papermill": {
     "duration": 4.357263,
     "end_time": "2023-12-20T09:10:11.096117",
     "exception": false,
     "start_time": "2023-12-20T09:10:06.738854",
     "status": "completed"
    },
    "tags": []
   },
   "source": [
    "## Finding the loss and accuracy of the model"
   ]
  },
  {
   "cell_type": "code",
   "execution_count": 24,
   "id": "yellow-secret",
   "metadata": {
    "execution": {
     "iopub.execute_input": "2023-12-20T09:10:19.700555Z",
     "iopub.status.busy": "2023-12-20T09:10:19.699761Z",
     "iopub.status.idle": "2023-12-20T09:10:21.562238Z",
     "shell.execute_reply": "2023-12-20T09:10:21.561794Z",
     "shell.execute_reply.started": "2023-12-20T08:24:04.496022Z"
    },
    "papermill": {
     "duration": 6.154879,
     "end_time": "2023-12-20T09:10:21.562366",
     "exception": false,
     "start_time": "2023-12-20T09:10:15.407487",
     "status": "completed"
    },
    "tags": []
   },
   "outputs": [
    {
     "name": "stdout",
     "output_type": "stream",
     "text": [
      "\u001b[1m157/157\u001b[0m \u001b[32m━━━━━━━━━━━━━━━━━━━━\u001b[0m\u001b[37m\u001b[0m \u001b[1m0s\u001b[0m 3ms/step - accuracy: 0.9925 - loss: 0.0397\n",
      "Test Loss: 0.04171062633395195\n",
      "Test accuracy: 0.9929999709129333\n"
     ]
    }
   ],
   "source": [
    "score = model.evaluate(test_x, test_y)\n",
    "\n",
    "print('Test Loss:', score[0])\n",
    "print('Test accuracy:', score[1])"
   ]
  },
  {
   "cell_type": "code",
   "execution_count": 25,
   "id": "1dbf1395",
   "metadata": {},
   "outputs": [
    {
     "name": "stdout",
     "output_type": "stream",
     "text": [
      "\u001b[1m157/157\u001b[0m \u001b[32m━━━━━━━━━━━━━━━━━━━━\u001b[0m\u001b[37m\u001b[0m \u001b[1m1s\u001b[0m 3ms/step\n"
     ]
    }
   ],
   "source": [
    "from sklearn.metrics import confusion_matrix\n",
    "\n",
    "y_pred = model.predict(test_x)\n",
    "y_true = test_y.astype(int)"
   ]
  },
  {
   "cell_type": "code",
   "execution_count": 26,
   "id": "05980beb",
   "metadata": {},
   "outputs": [
    {
     "name": "stdout",
     "output_type": "stream",
     "text": [
      "[1 3 3 ... 4 3 0]\n",
      "[1 3 3 ... 4 3 0]\n"
     ]
    }
   ],
   "source": [
    "print(np.argmax(y_pred, axis=1))\n",
    "print(np.argmax(y_true, axis=1))\n"
   ]
  },
  {
   "cell_type": "code",
   "execution_count": 27,
   "id": "9f042571",
   "metadata": {},
   "outputs": [
    {
     "data": {
      "image/png": "[encoded data removed]",
      "text/plain": [
       "<Figure size 1000x1000 with 2 Axes>"
      ]
     },
     "metadata": {},
     "output_type": "display_data"
    }
   ],
   "source": [
    "conf_matrix = confusion_matrix(np.argmax(y_true, axis=1), np.argmax(y_pred, axis=1))\n",
    "\n",
    "import seaborn as sns\n",
    "import matplotlib.pyplot as plt\n",
    "\n",
    "plt.figure(figsize=(10,10))\n",
    "sns.heatmap(conf_matrix, annot=True, fmt=\".0f\", linewidths=.5, square = True, cmap = 'Blues');\n",
    "plt.ylabel('Actual label');\n",
    "plt.xlabel('Predicted label');\n",
    "all_sample_title = 'Accuracy Score: {0}'.format(score[1])\n",
    "plt.title(all_sample_title, size = 15);\n",
    "plt.show()"
   ]
  },
  {
   "cell_type": "code",
   "execution_count": 28,
   "id": "distinguished-official",
   "metadata": {
    "execution": {
     "iopub.execute_input": "2023-12-20T09:10:30.215373Z",
     "iopub.status.busy": "2023-12-20T09:10:30.209786Z",
     "iopub.status.idle": "2023-12-20T09:10:30.251961Z",
     "shell.execute_reply": "2023-12-20T09:10:30.252573Z"
    },
    "papermill": {
     "duration": 4.391851,
     "end_time": "2023-12-20T09:10:30.252754",
     "exception": false,
     "start_time": "2023-12-20T09:10:25.860903",
     "status": "completed"
    },
    "tags": []
   },
   "outputs": [
    {
     "name": "stderr",
     "output_type": "stream",
     "text": [
      "WARNING:absl:You are saving your model as an HDF5 file via `model.save()` or `keras.saving.save_model(model)`. This file format is considered legacy. We recommend using instead the native Keras format, e.g. `model.save('my_model.keras')` or `keras.saving.save_model(model, 'my_model.keras')`. \n"
     ]
    }
   ],
   "source": [
    "# Lưu trọng số và cấu trúc mô hình vào file\n",
    "model.save('ten_file_model.h5')"
   ]
  }
 ],
 "metadata": {
  "kaggle": {
   "accelerator": "none",
   "dataSources": [
    {
     "datasetId": 52320,
     "sourceId": 97823,
     "sourceType": "datasetVersion"
    }
   ],
   "dockerImageVersionId": 30096,
   "isGpuEnabled": false,
   "isInternetEnabled": false,
   "language": "python",
   "sourceType": "notebook"
  },
  "kernelspec": {
   "display_name": "Python 3",
   "language": "python",
   "name": "python3"
  },
  "language_info": {
   "codemirror_mode": {
    "name": "ipython",
    "version": 3
   },
   "file_extension": ".py",
   "mimetype": "text/x-python",
   "name": "python",
   "nbconvert_exporter": "python",
   "pygments_lexer": "ipython3",
   "version": "3.11.5"
  },
  "papermill": {
   "default_parameters": {},
   "duration": 1388.691004,
   "end_time": "2023-12-20T09:10:45.329823",
   "environment_variables": {},
   "exception": null,
   "input_path": "__notebook__.ipynb",
   "output_path": "__notebook__.ipynb",
   "parameters": {},
   "start_time": "2023-12-20T08:47:36.638819",
   "version": "2.3.3"
  }
 },
 "nbformat": 4,
 "nbformat_minor": 5
}
